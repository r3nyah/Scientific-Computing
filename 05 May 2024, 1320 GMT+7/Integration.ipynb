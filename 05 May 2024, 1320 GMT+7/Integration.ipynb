{
  "nbformat": 4,
  "nbformat_minor": 0,
  "metadata": {
    "colab": {
      "provenance": []
    },
    "kernelspec": {
      "name": "python3",
      "display_name": "Python 3"
    },
    "language_info": {
      "name": "python"
    }
  },
  "cells": [
    {
      "cell_type": "markdown",
      "source": [
        "**Reimann Integration**"
      ],
      "metadata": {
        "id": "TqyMP_2h-24G"
      }
    },
    {
      "cell_type": "code",
      "source": [
        "import numpy as np"
      ],
      "metadata": {
        "id": "gZVdIk40-4Br"
      },
      "execution_count": 1,
      "outputs": []
    },
    {
      "cell_type": "code",
      "source": [
        "a = 0\n",
        "b = np.pi\n",
        "n =  11\n",
        "h = (b-a) / (n-1)\n",
        "x = np.linspace(a,b,n)\n",
        "f = np.sin(x)"
      ],
      "metadata": {
        "id": "6VeMbcGC-69j"
      },
      "execution_count": 2,
      "outputs": []
    },
    {
      "cell_type": "code",
      "source": [
        "I_reimannL = h * sum(f[:n-1:])\n",
        "err_reimannL = 2 - I_reimannL\n",
        "\n",
        "I_reimannR = h * sum(f[1::])\n",
        "err_reimannR = 2 - I_reimannR"
      ],
      "metadata": {
        "id": "8pJIMdO8_IhK"
      },
      "execution_count": 3,
      "outputs": []
    },
    {
      "cell_type": "code",
      "source": [
        "I_mid = h * sum(np.sin((x[:n-1] + x[1:] / 2)))\n",
        "err_mid = 2 - I_mid"
      ],
      "metadata": {
        "id": "hCNAMsBO_j_1"
      },
      "execution_count": 4,
      "outputs": []
    },
    {
      "cell_type": "code",
      "source": [
        "print(I_reimannL)\n",
        "print(err_reimannL)"
      ],
      "metadata": {
        "colab": {
          "base_uri": "https://localhost:8080/"
        },
        "id": "j8C_DSdo_ytC",
        "outputId": "ccdf33c9-39f8-4c8d-e004-3442a240def3"
      },
      "execution_count": 5,
      "outputs": [
        {
          "output_type": "stream",
          "name": "stdout",
          "text": [
            "1.9835235375094546\n",
            "0.01647646249054535\n"
          ]
        }
      ]
    },
    {
      "cell_type": "code",
      "source": [
        "print(I_reimannR)\n",
        "print(I_reimannR)"
      ],
      "metadata": {
        "colab": {
          "base_uri": "https://localhost:8080/"
        },
        "id": "t1HGveSy_3w6",
        "outputId": "b8d64957-6437-486a-96d8-34da933ac7b5"
      },
      "execution_count": 9,
      "outputs": [
        {
          "output_type": "stream",
          "name": "stdout",
          "text": [
            "1.9835235375094546\n",
            "1.9835235375094546\n"
          ]
        }
      ]
    },
    {
      "cell_type": "code",
      "source": [
        "print(I_mid)\n",
        "print(err_mid)"
      ],
      "metadata": {
        "colab": {
          "base_uri": "https://localhost:8080/"
        },
        "id": "gx7l20-B_5bJ",
        "outputId": "3d6dc426-9fc6-4946-f08e-10214ffd0999"
      },
      "execution_count": 8,
      "outputs": [
        {
          "output_type": "stream",
          "name": "stdout",
          "text": [
            "0.7235942995046017\n",
            "1.2764057004953981\n"
          ]
        }
      ]
    },
    {
      "cell_type": "markdown",
      "source": [
        "**Trapezoid Rule**"
      ],
      "metadata": {
        "id": "QlLgDF1hBvvr"
      }
    },
    {
      "cell_type": "code",
      "source": [
        "a = 0\n",
        "b = np.pi\n",
        "n = 11\n",
        "h = (b-a) / (n-1)\n",
        "x = np.linspace(a,b,n)\n",
        "f = np.sin(x)"
      ],
      "metadata": {
        "id": "Q3hWtuwQBxby"
      },
      "execution_count": 10,
      "outputs": []
    },
    {
      "cell_type": "code",
      "source": [
        "I_trap = (h/2)*(f[0] + 2 * sum(f[1:n-1]) + f[n-1])\n",
        "err_trap = 2 - I_trap"
      ],
      "metadata": {
        "id": "_cnJazxJCBX7"
      },
      "execution_count": 11,
      "outputs": []
    },
    {
      "cell_type": "code",
      "source": [
        "print(I_trap)\n",
        "print(err_trap)"
      ],
      "metadata": {
        "colab": {
          "base_uri": "https://localhost:8080/"
        },
        "id": "uO-E3pmwCQCJ",
        "outputId": "a02bd92b-8ed1-4ea8-e0a9-5ddd92060e8a"
      },
      "execution_count": 12,
      "outputs": [
        {
          "output_type": "stream",
          "name": "stdout",
          "text": [
            "1.9835235375094546\n",
            "0.01647646249054535\n"
          ]
        }
      ]
    },
    {
      "cell_type": "code",
      "source": [
        "from scipy.integrate import trapz"
      ],
      "metadata": {
        "id": "sGqjOt_MC_Am"
      },
      "execution_count": 13,
      "outputs": []
    },
    {
      "cell_type": "code",
      "source": [
        "I_trapz = trapz(f,x)\n",
        "print(I_trap)"
      ],
      "metadata": {
        "colab": {
          "base_uri": "https://localhost:8080/"
        },
        "id": "IDrS8TIPDCrI",
        "outputId": "bbe14867-1bb5-4187-85b5-ffad7114a5ad"
      },
      "execution_count": 14,
      "outputs": [
        {
          "output_type": "stream",
          "name": "stdout",
          "text": [
            "1.9835235375094546\n"
          ]
        }
      ]
    },
    {
      "cell_type": "markdown",
      "source": [
        "**Integrate Quad**"
      ],
      "metadata": {
        "id": "7aKYAAp3Et0k"
      }
    },
    {
      "cell_type": "code",
      "source": [
        "from scipy.integrate import quad"
      ],
      "metadata": {
        "id": "yH4jBVa6DLTv"
      },
      "execution_count": 15,
      "outputs": []
    },
    {
      "cell_type": "code",
      "source": [
        "I_quad, est_err_quad = quad(np.sin,0,np.pi)\n",
        "print(I_quad)"
      ],
      "metadata": {
        "colab": {
          "base_uri": "https://localhost:8080/"
        },
        "id": "JjWGT2D-EQC6",
        "outputId": "a569d78b-eb6c-47f4-cc48-368420b0c14e"
      },
      "execution_count": 16,
      "outputs": [
        {
          "output_type": "stream",
          "name": "stdout",
          "text": [
            "2.0\n"
          ]
        }
      ]
    },
    {
      "cell_type": "code",
      "source": [
        "err_quad = 2 - I_quad\n",
        "print(est_err_quad,err_quad)"
      ],
      "metadata": {
        "colab": {
          "base_uri": "https://localhost:8080/"
        },
        "id": "_6WpMjMXEaAC",
        "outputId": "9e9bcfbd-f8c0-484d-b950-c821a191694b"
      },
      "execution_count": 17,
      "outputs": [
        {
          "output_type": "stream",
          "name": "stdout",
          "text": [
            "2.220446049250313e-14 0.0\n"
          ]
        }
      ]
    },
    {
      "cell_type": "markdown",
      "source": [
        "**Quiz**"
      ],
      "metadata": {
        "id": "mNnrXazEKZHE"
      }
    },
    {
      "cell_type": "markdown",
      "source": [
        "Evaluate the bounds of integration sin(x) from 0 to pi with the composite trapezoidal rule using eight panels and 16 panels"
      ],
      "metadata": {
        "id": "b6hRI1jPKbGX"
      }
    },
    {
      "cell_type": "code",
      "source": [
        "a = 0\n",
        "b = np.pi\n",
        "n = 9\n",
        "h = (b-a) / (n-1)\n",
        "x = np.linspace(a, b, n)\n",
        "f = np.sin(x)\n",
        "\n",
        "I_trapz = trapz(f,x)\n",
        "I_trap = (h/2)*(f[0]+ 2 * sum(f[1:n-1]) + f[n-1])\n",
        "\n",
        "print (I_trapz)\n",
        "print (I_trap)"
      ],
      "metadata": {
        "id": "e6bSzHycLS9W"
      },
      "execution_count": null,
      "outputs": []
    },
    {
      "cell_type": "code",
      "source": [
        "a = 0\n",
        "b = np.pi\n",
        "n = 17\n",
        "h = (b-a) / (n-1)\n",
        "x = np.linspace(a, b, n)\n",
        "f = np.sin(x)\n",
        "\n",
        "I_trapz = trapz(f,x)\n",
        "I_trap = (h/2)*(f[0]+ 2 * sum(f[1:n-1]) + f[n-1])\n",
        "\n",
        "print (I_trapz)\n",
        "print (I_trap)"
      ],
      "metadata": {
        "id": "i0adOi00MJwF"
      },
      "execution_count": null,
      "outputs": []
    }
  ]
}