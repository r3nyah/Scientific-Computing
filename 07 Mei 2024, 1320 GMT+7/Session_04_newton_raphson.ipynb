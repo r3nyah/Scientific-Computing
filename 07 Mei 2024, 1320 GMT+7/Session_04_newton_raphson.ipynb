{
  "nbformat": 4,
  "nbformat_minor": 0,
  "metadata": {
    "colab": {
      "provenance": []
    },
    "kernelspec": {
      "name": "python3",
      "display_name": "Python 3"
    },
    "language_info": {
      "name": "python"
    }
  },
  "cells": [
    {
      "cell_type": "code",
      "execution_count": 1,
      "metadata": {
        "id": "-kUyPbb-vMEb"
      },
      "outputs": [],
      "source": [
        "import numpy as np"
      ]
    },
    {
      "cell_type": "code",
      "source": [
        "def my_bisection (f,a,b,tol):\n",
        "  # approximates a root, R of F bounded by A and B to within tolerance\n",
        "  # | f(m) | < tol with m the midpoint between A and B recursive implementation\n",
        "\n",
        "  # check if A and B bound a root\n",
        "  if np.sign(f(a)) == np.sign(f(b)):\n",
        "    raise Exception(\"The scalars A and B do not bound a root\")\n",
        "\n",
        "  # get mid point\n",
        "  m = (a + b) / 2\n",
        "\n",
        "  if np.abs(f(m)) < tol:\n",
        "    # stoping condition, report M as root\n",
        "    return m\n",
        "  elif np.sign(f(a)) == np.sign(f(m)):\n",
        "    # case where m is an improvement on a\n",
        "    # make recursive call ith a  = m\n",
        "    return my_bisection(f,m,b,tol)\n",
        "  elif np.sign(f(b)) == np.sign(f(m)):\n",
        "    # case where m is an improvement on b\n",
        "    # make recursive call ith b  = m\n",
        "    return my_bisection(f,a,m,tol)"
      ],
      "metadata": {
        "id": "S_yHh435vmDO"
      },
      "execution_count": 2,
      "outputs": []
    },
    {
      "cell_type": "code",
      "source": [
        "f = lambda x: x**2 - 2\n",
        "\n",
        "r1 = my_bisection(f,0,2,0.1)\n",
        "print(\"r1 = \", r1)\n",
        "\n",
        "r01 = my_bisection(f,0,2,0.01)\n",
        "print(\"r01 = \", r01)\n",
        "\n",
        "print(\"f(r1) = \",f(r1))\n",
        "print(\"f(r01) = \",(r01))"
      ],
      "metadata": {
        "colab": {
          "base_uri": "https://localhost:8080/"
        },
        "id": "5zXFaHM-v9hN",
        "outputId": "82555e03-2747-4c53-9490-70ba57229e7f"
      },
      "execution_count": 3,
      "outputs": [
        {
          "output_type": "stream",
          "name": "stdout",
          "text": [
            "r1 =  1.4375\n",
            "r01 =  1.4140625\n",
            "f(r1) =  0.06640625\n",
            "f(r01) =  1.4140625\n"
          ]
        }
      ]
    },
    {
      "cell_type": "code",
      "source": [
        "f = lambda x: x**2 - 2\n",
        "f_prime = lambda x: 2*x\n",
        "newton_raphson = 1.4 - (f(1.4)) / (f_prime(1.4))\n",
        "\n",
        "print(\"newton_raphson = \", newton_raphson)\n",
        "print(\"sqrt(2) = \",np.sqrt(2))"
      ],
      "metadata": {
        "colab": {
          "base_uri": "https://localhost:8080/"
        },
        "id": "A1ZSMU9Lz7P4",
        "outputId": "29759f00-1b4c-4fc9-d49c-0acf5c7ed79e"
      },
      "execution_count": 4,
      "outputs": [
        {
          "output_type": "stream",
          "name": "stdout",
          "text": [
            "newton_raphson =  1.4142857142857144\n",
            "sqrt(2) =  1.4142135623730951\n"
          ]
        }
      ]
    },
    {
      "cell_type": "code",
      "source": [
        "def my_newton(f,df,x0,tol):\n",
        "  # output is an estimation of the root of f using the newton raphson method\n",
        "  # recursive method implementation\n",
        "\n",
        "  if abs(f(x0)) < tol:\n",
        "    return x0\n",
        "  else:\n",
        "    return my_newton(f,df,x0 - f(x0) / df(x0),tol)"
      ],
      "metadata": {
        "id": "Zie8y9pi3VMc"
      },
      "execution_count": 5,
      "outputs": []
    },
    {
      "cell_type": "code",
      "source": [
        "estimate = my_newton(f,f_prime,1.5,1e-6)\n",
        "print(\"estimate = \",estimate)\n",
        "print(\"sqrt(2) = \",np.sqrt(2))\n"
      ],
      "metadata": {
        "colab": {
          "base_uri": "https://localhost:8080/"
        },
        "id": "NEn2SDfp4mC-",
        "outputId": "d5f8952c-9332-46d6-e3b7-f3dd40a817b1"
      },
      "execution_count": 6,
      "outputs": [
        {
          "output_type": "stream",
          "name": "stdout",
          "text": [
            "estimate =  1.4142135623746899\n",
            "sqrt(2) =  1.4142135623730951\n"
          ]
        }
      ]
    },
    {
      "cell_type": "markdown",
      "source": [
        "**Quiz 1 Bisection**"
      ],
      "metadata": {
        "id": "sZxagcbE6a29"
      }
    },
    {
      "cell_type": "markdown",
      "source": [
        "f(x) = x³ - 3x² + 2x;\n",
        "[a,b] = [1,2];\n",
        "tol = 0.01;"
      ],
      "metadata": {
        "id": "LvmZbAd56fPN"
      }
    },
    {
      "cell_type": "code",
      "source": [
        "# Define the function f(x) = x^3 - 3x^2 + 2x\n",
        "f = lambda x: x**3 - 3*x**2 + 2*x\n",
        "\n",
        "# Find the root with tolerance 0.01\n",
        "r1 = my_bisection(f, 1, 2, 0.01)\n",
        "print(\"r1 = \", r1)\n",
        "\n",
        "# Check the function value at r1\n",
        "print(\"f(r1) = \", f(r1))"
      ],
      "metadata": {
        "id": "5_0iB6T47JNT"
      },
      "execution_count": null,
      "outputs": []
    },
    {
      "cell_type": "markdown",
      "source": [
        "**Quiz 2 Bisection**"
      ],
      "metadata": {
        "id": "ImB5ghf1_7uo"
      }
    },
    {
      "cell_type": "markdown",
      "source": [
        "f(x) =  sin x - x;\n",
        "[a,b] = [0,1];\n",
        "tol = 0,001;"
      ],
      "metadata": {
        "id": "6iADtsFx__o6"
      }
    },
    {
      "cell_type": "code",
      "source": [
        "# Define the function f(x) = sin(x) - x\n",
        "f = lambda x: np.sin(x) - x\n",
        "\n",
        "# Find the root with tolerance 0.001\n",
        "r1 = my_bisection(f, 0, 1, 0.001)\n",
        "print(\"r1 =\", r1)\n",
        "print(\"f(r1) =\", f(r1))"
      ],
      "metadata": {
        "colab": {
          "base_uri": "https://localhost:8080/"
        },
        "id": "YiEtuVwx2AFI",
        "outputId": "74088996-c523-4295-9508-8927a479d5ca"
      },
      "execution_count": 8,
      "outputs": [
        {
          "output_type": "stream",
          "name": "stdout",
          "text": [
            "r1 = 0.125\n",
            "f(r1) = -0.0003252666147723071\n"
          ]
        }
      ]
    },
    {
      "cell_type": "markdown",
      "source": [
        "**Quiz 1 Newton Raphson**"
      ],
      "metadata": {
        "id": "yrb_sSXr7eME"
      }
    },
    {
      "cell_type": "markdown",
      "source": [
        "f(x) = x³ - 3x² + 2x;\n",
        "x0 = 1.5;\n",
        "tol = 0.001;"
      ],
      "metadata": {
        "id": "GE4MWQBE7iyC"
      }
    },
    {
      "cell_type": "code",
      "source": [
        "# Define the function f(x) and its derivative f_prime(x)\n",
        "f = lambda x: x**3 - 3*x**2 + 2*x\n",
        "f_prime = lambda x: 3*x**2 - 6*x + 2"
      ],
      "metadata": {
        "id": "M6g1lMc4Dryc"
      },
      "execution_count": 9,
      "outputs": []
    },
    {
      "cell_type": "code",
      "source": [
        "# Initial guess and tolerance\n",
        "x0 = 1.5\n",
        "tol = 0.001\n",
        "\n",
        "# Call the Newton-Raphson function to estimate the root\n",
        "estimate = my_newton(f, f_prime, x0, tol)\n",
        "\n",
        "print(\"estimate = \", estimate)"
      ],
      "metadata": {
        "colab": {
          "base_uri": "https://localhost:8080/"
        },
        "id": "mcdWx1CPD0fy",
        "outputId": "2361a5af-08d0-4db0-d35f-cc5aae858524"
      },
      "execution_count": 10,
      "outputs": [
        {
          "output_type": "stream",
          "name": "stdout",
          "text": [
            "estimate =  0.0\n"
          ]
        }
      ]
    },
    {
      "cell_type": "markdown",
      "source": [
        "**Quiz 2 Newton Raphson**"
      ],
      "metadata": {
        "id": "e_QRmbA7AkmE"
      }
    },
    {
      "cell_type": "markdown",
      "source": [
        "f(x) = e^x -2x;\n",
        "x0 = 1;\n",
        "tol = 0.001;"
      ],
      "metadata": {
        "id": "9sBjJ_ljAt9M"
      }
    },
    {
      "cell_type": "code",
      "source": [
        "# Define the function and its derivative\n",
        "f = lambda x: np.exp(x) - 2*x\n",
        "f_prime = lambda x: np.exp(x) - 2"
      ],
      "metadata": {
        "id": "PJmISr-sEhPZ"
      },
      "execution_count": 11,
      "outputs": []
    },
    {
      "cell_type": "code",
      "source": [
        "# Initial guess and tolerance\n",
        "x0 = 1\n",
        "tol = 0.001\n",
        "\n",
        "# Call the function to estimate the root\n",
        "estimate = my_newton(f, f_prime, x0, tol)\n",
        "\n",
        "print(\"estimate =\", estimate)"
      ],
      "metadata": {
        "colab": {
          "base_uri": "https://localhost:8080/",
          "height": 356
        },
        "id": "4l6JTAlJEkbo",
        "outputId": "c31e8fac-25c0-409b-ed5f-cb3ba1ea289e"
      },
      "execution_count": 13,
      "outputs": [
        {
          "output_type": "error",
          "ename": "RecursionError",
          "evalue": "maximum recursion depth exceeded",
          "traceback": [
            "\u001b[0;31m---------------------------------------------------------------------------\u001b[0m",
            "\u001b[0;31mRecursionError\u001b[0m                            Traceback (most recent call last)",
            "\u001b[0;32m<ipython-input-13-57e4ed37d024>\u001b[0m in \u001b[0;36m<cell line: 6>\u001b[0;34m()\u001b[0m\n\u001b[1;32m      4\u001b[0m \u001b[0;34m\u001b[0m\u001b[0m\n\u001b[1;32m      5\u001b[0m \u001b[0;31m# Call the function to estimate the root\u001b[0m\u001b[0;34m\u001b[0m\u001b[0;34m\u001b[0m\u001b[0m\n\u001b[0;32m----> 6\u001b[0;31m \u001b[0mestimate\u001b[0m \u001b[0;34m=\u001b[0m \u001b[0mmy_newton\u001b[0m\u001b[0;34m(\u001b[0m\u001b[0mf\u001b[0m\u001b[0;34m,\u001b[0m \u001b[0mf_prime\u001b[0m\u001b[0;34m,\u001b[0m \u001b[0;36m1\u001b[0m\u001b[0;34m,\u001b[0m \u001b[0;36m0.001\u001b[0m\u001b[0;34m)\u001b[0m\u001b[0;34m\u001b[0m\u001b[0;34m\u001b[0m\u001b[0m\n\u001b[0m\u001b[1;32m      7\u001b[0m \u001b[0;34m\u001b[0m\u001b[0m\n\u001b[1;32m      8\u001b[0m \u001b[0mprint\u001b[0m\u001b[0;34m(\u001b[0m\u001b[0;34m\"estimate =\"\u001b[0m\u001b[0;34m,\u001b[0m \u001b[0mestimate\u001b[0m\u001b[0;34m)\u001b[0m\u001b[0;34m\u001b[0m\u001b[0;34m\u001b[0m\u001b[0m\n",
            "\u001b[0;32m<ipython-input-5-5e7513e36e79>\u001b[0m in \u001b[0;36mmy_newton\u001b[0;34m(f, df, x0, tol)\u001b[0m\n\u001b[1;32m      6\u001b[0m     \u001b[0;32mreturn\u001b[0m \u001b[0mx0\u001b[0m\u001b[0;34m\u001b[0m\u001b[0;34m\u001b[0m\u001b[0m\n\u001b[1;32m      7\u001b[0m   \u001b[0;32melse\u001b[0m\u001b[0;34m:\u001b[0m\u001b[0;34m\u001b[0m\u001b[0;34m\u001b[0m\u001b[0m\n\u001b[0;32m----> 8\u001b[0;31m     \u001b[0;32mreturn\u001b[0m \u001b[0mmy_newton\u001b[0m\u001b[0;34m(\u001b[0m\u001b[0mf\u001b[0m\u001b[0;34m,\u001b[0m\u001b[0mdf\u001b[0m\u001b[0;34m,\u001b[0m\u001b[0mx0\u001b[0m \u001b[0;34m-\u001b[0m \u001b[0mf\u001b[0m\u001b[0;34m(\u001b[0m\u001b[0mx0\u001b[0m\u001b[0;34m)\u001b[0m \u001b[0;34m/\u001b[0m \u001b[0mdf\u001b[0m\u001b[0;34m(\u001b[0m\u001b[0mx0\u001b[0m\u001b[0;34m)\u001b[0m\u001b[0;34m,\u001b[0m\u001b[0mtol\u001b[0m\u001b[0;34m)\u001b[0m\u001b[0;34m\u001b[0m\u001b[0;34m\u001b[0m\u001b[0m\n\u001b[0m",
            "... last 1 frames repeated, from the frame below ...\n",
            "\u001b[0;32m<ipython-input-5-5e7513e36e79>\u001b[0m in \u001b[0;36mmy_newton\u001b[0;34m(f, df, x0, tol)\u001b[0m\n\u001b[1;32m      6\u001b[0m     \u001b[0;32mreturn\u001b[0m \u001b[0mx0\u001b[0m\u001b[0;34m\u001b[0m\u001b[0;34m\u001b[0m\u001b[0m\n\u001b[1;32m      7\u001b[0m   \u001b[0;32melse\u001b[0m\u001b[0;34m:\u001b[0m\u001b[0;34m\u001b[0m\u001b[0;34m\u001b[0m\u001b[0m\n\u001b[0;32m----> 8\u001b[0;31m     \u001b[0;32mreturn\u001b[0m \u001b[0mmy_newton\u001b[0m\u001b[0;34m(\u001b[0m\u001b[0mf\u001b[0m\u001b[0;34m,\u001b[0m\u001b[0mdf\u001b[0m\u001b[0;34m,\u001b[0m\u001b[0mx0\u001b[0m \u001b[0;34m-\u001b[0m \u001b[0mf\u001b[0m\u001b[0;34m(\u001b[0m\u001b[0mx0\u001b[0m\u001b[0;34m)\u001b[0m \u001b[0;34m/\u001b[0m \u001b[0mdf\u001b[0m\u001b[0;34m(\u001b[0m\u001b[0mx0\u001b[0m\u001b[0;34m)\u001b[0m\u001b[0;34m,\u001b[0m\u001b[0mtol\u001b[0m\u001b[0;34m)\u001b[0m\u001b[0;34m\u001b[0m\u001b[0;34m\u001b[0m\u001b[0m\n\u001b[0m",
            "\u001b[0;31mRecursionError\u001b[0m: maximum recursion depth exceeded"
          ]
        }
      ]
    }
  ]
}