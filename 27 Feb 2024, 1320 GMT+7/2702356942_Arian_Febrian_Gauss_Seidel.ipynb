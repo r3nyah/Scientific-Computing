{
  "nbformat": 4,
  "nbformat_minor": 0,
  "metadata": {
    "colab": {
      "provenance": [],
      "history_visible": true
    },
    "kernelspec": {
      "name": "python3",
      "display_name": "Python 3"
    },
    "language_info": {
      "name": "python"
    }
  },
  "cells": [
    {
      "cell_type": "code",
      "execution_count": null,
      "metadata": {
        "colab": {
          "base_uri": "https://localhost:8080/"
        },
        "id": "U6bFuUUWO8QR",
        "outputId": "b61e2c67-ebc3-49c0-9b29-cda0bfbb377f"
      },
      "outputs": [
        {
          "output_type": "stream",
          "name": "stdout",
          "text": [
            "Matrix is diagonally dominant\n"
          ]
        }
      ],
      "source": [
        "import numpy as np\n",
        "a = [\n",
        "    [8,3,-1],\n",
        "    [-2,-8,5],\n",
        "    [3,5,10]\n",
        "]\n",
        "\n",
        "#Find diagonal coefficietns\n",
        "diag = np.diag(np.abs(a))\n",
        "\n",
        "#Find row sum without diagonal\n",
        "off_diag = np.sum(np.abs(a), axis = 1) - diag\n",
        "\n",
        "if np.all(diag > off_diag):\n",
        "  print('Matrix is diagonally dominant')\n",
        "else:\n",
        "  print('Not diagonally dominant')\n"
      ]
    },
    {
      "cell_type": "code",
      "source": [
        "x1 = 0\n",
        "x2 = 0\n",
        "x3 = 0\n",
        "epsilon = 0.01\n",
        "converged = False\n",
        "x_old = np.array([\n",
        "    x1,x2,x3\n",
        "])"
      ],
      "metadata": {
        "id": "eFHn85xXTzJU"
      },
      "execution_count": null,
      "outputs": []
    },
    {
      "cell_type": "code",
      "source": [
        "print('Iteration results')\n",
        "print('k,  x1,  x2,  x3')\n",
        "for k in range(1,50):\n",
        "  x1 = (14 - 3 * x2 + 3 *x3) / 8\n",
        "  x2 = (5 + 2 * x1 - 5 * x3) / (-8)\n",
        "  x3 = (-8 -3 * x2 - 5 * x2) / (10)\n",
        "  x = np.array([\n",
        "      x1,x2,x3\n",
        "  ])\n",
        "\n",
        "  #Check if it is smaller than threshold\n",
        "  dx = np.sqrt(np.dot(x-x_old,x-x_old))\n",
        "\n",
        "  print(\"%d, %.4f, %.4f, %.4f\"% (k, x1, x2, x3))\n",
        "  if dx < epsilon:\n",
        "    converged = True\n",
        "    print('Converged')\n",
        "    break\n",
        "\n",
        "#Assign the lates x value to the old value\n",
        "x_old = x\n",
        "\n",
        "if not converged:\n",
        "  print('Not Converge, increase the # of iterations')"
      ],
      "metadata": {
        "colab": {
          "base_uri": "https://localhost:8080/"
        },
        "id": "L9CPYfToUKif",
        "outputId": "5f3d36f2-487c-42f4-b543-02429c84b091"
      },
      "execution_count": null,
      "outputs": [
        {
          "output_type": "stream",
          "name": "stdout",
          "text": [
            "Iteration results\n",
            "k,  x1,  x2,  x3\n",
            "1, 2.2042, -1.1174, 0.0939\n",
            "Converged\n"
          ]
        }
      ]
    },
    {
      "cell_type": "code",
      "source": [],
      "metadata": {
        "id": "f5HTkguVVmIj"
      },
      "execution_count": null,
      "outputs": []
    }
  ]
}